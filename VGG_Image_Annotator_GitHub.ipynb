{
  "nbformat": 4,
  "nbformat_minor": 0,
  "metadata": {
    "colab": {
      "provenance": []
    },
    "kernelspec": {
      "name": "python3",
      "display_name": "Python 3"
    },
    "language_info": {
      "name": "python"
    }
  },
  "cells": [
    {
      "cell_type": "markdown",
      "source": [
        "# Beginning"
      ],
      "metadata": {
        "id": "rNVym3eJfKKf"
      }
    },
    {
      "cell_type": "markdown",
      "source": [
        "Given that\n",
        "\n",
        "*   OCR is not designed to detect document layouts or distinguish different text types\n",
        "*   Currently, **layout parser** supports **two types of OCR engines**: Google Cloud Vision and Tesseract OCR engine.\n",
        "    *   https://layout-parser.readthedocs.io/en/latest/example/parse_ocr/index.html\n",
        "\n",
        "To make complex document structures like Moody's manual with several columns readable for a computer, we need a more targeted approach. This has led us to explore VGG Image Annotator (VIA) from Oxford University\n",
        "\n",
        "*   VGG Image Annotator is a simple and standalone **manual annotation software** for image\n",
        "*   VIA is an open source project based solely on HTML, Javascript and CSS (no dependency on external libraries).\n",
        "\n",
        "It requires no dependency on external libraries, making it a potentially more accessible and flexible tool. With VIA, we could manually 'block' and annotate each discovered area of interest, potentially allowing us to define the structure of complex documents and parse them more accurately.\"\n",
        "\n",
        "\n"
      ],
      "metadata": {
        "id": "exDa7rlvfQ1V"
      }
    },
    {
      "cell_type": "markdown",
      "source": [
        "# Introduction"
      ],
      "metadata": {
        "id": "VgjAgUveW550"
      }
    },
    {
      "cell_type": "markdown",
      "source": [
        "*   After annotating the image and identifying the rectangles, we would like to merge them **in the order of their annotation to assemble a larger image**.\n",
        "    *   https://www.robots.ox.ac.uk/~vgg/software/via/\n",
        "    *   Version 2 image annotator\n",
        "\n",
        "\n",
        "*   The goal is to arrange all the elements (parts of text) longitudinally, instead of horizontally. This way, **the final image will have the text parts aligned vertically**, creating a more cohesive and organized presentation."
      ],
      "metadata": {
        "id": "CPAAlgaGQbwf"
      }
    },
    {
      "cell_type": "markdown",
      "source": [
        "# Code"
      ],
      "metadata": {
        "id": "fptNupbuXoNW"
      }
    },
    {
      "cell_type": "code",
      "source": [
        "#This is used later in the script to convert images to a PDF.\n",
        "!pip install img2pdf"
      ],
      "metadata": {
        "colab": {
          "base_uri": "https://localhost:8080/"
        },
        "id": "u3mUBTKaP_73",
        "outputId": "bdab7753-7e60-4bf5-a9d6-329686daf8fb"
      },
      "execution_count": null,
      "outputs": [
        {
          "output_type": "stream",
          "name": "stdout",
          "text": [
            "Requirement already satisfied: img2pdf in /usr/local/lib/python3.10/dist-packages (0.4.4)\n",
            "Requirement already satisfied: Pillow in /usr/local/lib/python3.10/dist-packages (from img2pdf) (9.4.0)\n",
            "Requirement already satisfied: pikepdf in /usr/local/lib/python3.10/dist-packages (from img2pdf) (8.4.1)\n",
            "Requirement already satisfied: deprecation in /usr/local/lib/python3.10/dist-packages (from pikepdf->img2pdf) (2.1.0)\n",
            "Requirement already satisfied: lxml>=4.8 in /usr/local/lib/python3.10/dist-packages (from pikepdf->img2pdf) (4.9.3)\n",
            "Requirement already satisfied: packaging in /usr/local/lib/python3.10/dist-packages (from pikepdf->img2pdf) (23.1)\n"
          ]
        }
      ]
    },
    {
      "cell_type": "code",
      "execution_count": null,
      "metadata": {
        "id": "ZO_qZgk-rEyP"
      },
      "outputs": [],
      "source": [
        "import json\n",
        "import cv2\n",
        "import os\n",
        "from google.colab import files\n",
        "from PIL import Image\n",
        "import img2pdf"
      ]
    },
    {
      "cell_type": "code",
      "source": [
        "# Upload the original image and annotations.json\n",
        "# Here we upload both the original image and the JSON file produced from VGG Image Annotator.\n",
        "\n",
        "uploaded = files.upload()"
      ],
      "metadata": {
        "colab": {
          "base_uri": "https://localhost:8080/",
          "height": 109
        },
        "id": "lRhwjk3erR8p",
        "outputId": "3437b75e-2f75-47aa-aa02-47cad4cf541c"
      },
      "execution_count": null,
      "outputs": [
        {
          "output_type": "display_data",
          "data": {
            "text/plain": [
              "<IPython.core.display.HTML object>"
            ],
            "text/html": [
              "\n",
              "     <input type=\"file\" id=\"files-775d50fb-ad46-47dd-8d4b-0495ab3347cc\" name=\"files[]\" multiple disabled\n",
              "        style=\"border:none\" />\n",
              "     <output id=\"result-775d50fb-ad46-47dd-8d4b-0495ab3347cc\">\n",
              "      Upload widget is only available when the cell has been executed in the\n",
              "      current browser session. Please rerun this cell to enable.\n",
              "      </output>\n",
              "      <script>// Copyright 2017 Google LLC\n",
              "//\n",
              "// Licensed under the Apache License, Version 2.0 (the \"License\");\n",
              "// you may not use this file except in compliance with the License.\n",
              "// You may obtain a copy of the License at\n",
              "//\n",
              "//      http://www.apache.org/licenses/LICENSE-2.0\n",
              "//\n",
              "// Unless required by applicable law or agreed to in writing, software\n",
              "// distributed under the License is distributed on an \"AS IS\" BASIS,\n",
              "// WITHOUT WARRANTIES OR CONDITIONS OF ANY KIND, either express or implied.\n",
              "// See the License for the specific language governing permissions and\n",
              "// limitations under the License.\n",
              "\n",
              "/**\n",
              " * @fileoverview Helpers for google.colab Python module.\n",
              " */\n",
              "(function(scope) {\n",
              "function span(text, styleAttributes = {}) {\n",
              "  const element = document.createElement('span');\n",
              "  element.textContent = text;\n",
              "  for (const key of Object.keys(styleAttributes)) {\n",
              "    element.style[key] = styleAttributes[key];\n",
              "  }\n",
              "  return element;\n",
              "}\n",
              "\n",
              "// Max number of bytes which will be uploaded at a time.\n",
              "const MAX_PAYLOAD_SIZE = 100 * 1024;\n",
              "\n",
              "function _uploadFiles(inputId, outputId) {\n",
              "  const steps = uploadFilesStep(inputId, outputId);\n",
              "  const outputElement = document.getElementById(outputId);\n",
              "  // Cache steps on the outputElement to make it available for the next call\n",
              "  // to uploadFilesContinue from Python.\n",
              "  outputElement.steps = steps;\n",
              "\n",
              "  return _uploadFilesContinue(outputId);\n",
              "}\n",
              "\n",
              "// This is roughly an async generator (not supported in the browser yet),\n",
              "// where there are multiple asynchronous steps and the Python side is going\n",
              "// to poll for completion of each step.\n",
              "// This uses a Promise to block the python side on completion of each step,\n",
              "// then passes the result of the previous step as the input to the next step.\n",
              "function _uploadFilesContinue(outputId) {\n",
              "  const outputElement = document.getElementById(outputId);\n",
              "  const steps = outputElement.steps;\n",
              "\n",
              "  const next = steps.next(outputElement.lastPromiseValue);\n",
              "  return Promise.resolve(next.value.promise).then((value) => {\n",
              "    // Cache the last promise value to make it available to the next\n",
              "    // step of the generator.\n",
              "    outputElement.lastPromiseValue = value;\n",
              "    return next.value.response;\n",
              "  });\n",
              "}\n",
              "\n",
              "/**\n",
              " * Generator function which is called between each async step of the upload\n",
              " * process.\n",
              " * @param {string} inputId Element ID of the input file picker element.\n",
              " * @param {string} outputId Element ID of the output display.\n",
              " * @return {!Iterable<!Object>} Iterable of next steps.\n",
              " */\n",
              "function* uploadFilesStep(inputId, outputId) {\n",
              "  const inputElement = document.getElementById(inputId);\n",
              "  inputElement.disabled = false;\n",
              "\n",
              "  const outputElement = document.getElementById(outputId);\n",
              "  outputElement.innerHTML = '';\n",
              "\n",
              "  const pickedPromise = new Promise((resolve) => {\n",
              "    inputElement.addEventListener('change', (e) => {\n",
              "      resolve(e.target.files);\n",
              "    });\n",
              "  });\n",
              "\n",
              "  const cancel = document.createElement('button');\n",
              "  inputElement.parentElement.appendChild(cancel);\n",
              "  cancel.textContent = 'Cancel upload';\n",
              "  const cancelPromise = new Promise((resolve) => {\n",
              "    cancel.onclick = () => {\n",
              "      resolve(null);\n",
              "    };\n",
              "  });\n",
              "\n",
              "  // Wait for the user to pick the files.\n",
              "  const files = yield {\n",
              "    promise: Promise.race([pickedPromise, cancelPromise]),\n",
              "    response: {\n",
              "      action: 'starting',\n",
              "    }\n",
              "  };\n",
              "\n",
              "  cancel.remove();\n",
              "\n",
              "  // Disable the input element since further picks are not allowed.\n",
              "  inputElement.disabled = true;\n",
              "\n",
              "  if (!files) {\n",
              "    return {\n",
              "      response: {\n",
              "        action: 'complete',\n",
              "      }\n",
              "    };\n",
              "  }\n",
              "\n",
              "  for (const file of files) {\n",
              "    const li = document.createElement('li');\n",
              "    li.append(span(file.name, {fontWeight: 'bold'}));\n",
              "    li.append(span(\n",
              "        `(${file.type || 'n/a'}) - ${file.size} bytes, ` +\n",
              "        `last modified: ${\n",
              "            file.lastModifiedDate ? file.lastModifiedDate.toLocaleDateString() :\n",
              "                                    'n/a'} - `));\n",
              "    const percent = span('0% done');\n",
              "    li.appendChild(percent);\n",
              "\n",
              "    outputElement.appendChild(li);\n",
              "\n",
              "    const fileDataPromise = new Promise((resolve) => {\n",
              "      const reader = new FileReader();\n",
              "      reader.onload = (e) => {\n",
              "        resolve(e.target.result);\n",
              "      };\n",
              "      reader.readAsArrayBuffer(file);\n",
              "    });\n",
              "    // Wait for the data to be ready.\n",
              "    let fileData = yield {\n",
              "      promise: fileDataPromise,\n",
              "      response: {\n",
              "        action: 'continue',\n",
              "      }\n",
              "    };\n",
              "\n",
              "    // Use a chunked sending to avoid message size limits. See b/62115660.\n",
              "    let position = 0;\n",
              "    do {\n",
              "      const length = Math.min(fileData.byteLength - position, MAX_PAYLOAD_SIZE);\n",
              "      const chunk = new Uint8Array(fileData, position, length);\n",
              "      position += length;\n",
              "\n",
              "      const base64 = btoa(String.fromCharCode.apply(null, chunk));\n",
              "      yield {\n",
              "        response: {\n",
              "          action: 'append',\n",
              "          file: file.name,\n",
              "          data: base64,\n",
              "        },\n",
              "      };\n",
              "\n",
              "      let percentDone = fileData.byteLength === 0 ?\n",
              "          100 :\n",
              "          Math.round((position / fileData.byteLength) * 100);\n",
              "      percent.textContent = `${percentDone}% done`;\n",
              "\n",
              "    } while (position < fileData.byteLength);\n",
              "  }\n",
              "\n",
              "  // All done.\n",
              "  yield {\n",
              "    response: {\n",
              "      action: 'complete',\n",
              "    }\n",
              "  };\n",
              "}\n",
              "\n",
              "scope.google = scope.google || {};\n",
              "scope.google.colab = scope.google.colab || {};\n",
              "scope.google.colab._files = {\n",
              "  _uploadFiles,\n",
              "  _uploadFilesContinue,\n",
              "};\n",
              "})(self);\n",
              "</script> "
            ]
          },
          "metadata": {}
        },
        {
          "output_type": "stream",
          "name": "stdout",
          "text": [
            "Saving annotation.json to annotation.json\n",
            "Saving page.jpg to page.jpg\n"
          ]
        }
      ]
    },
    {
      "cell_type": "code",
      "source": [
        "# Load the annotations\n",
        "annotations = json.load(open('annotation.json'))\n",
        "\n",
        "# Get the image filename and its annotations\n",
        "filename = list(annotations.keys())[0]\n",
        "image_annotations = annotations[filename]['regions']\n",
        "\n",
        "# Load the original image\n",
        "original_image = cv2.imread('page.jpg', cv2.IMREAD_COLOR)\n",
        "\n",
        "# Create a directory to store the cropped images\n",
        "# Creating a directory for cropped images: A directory named \"sample\" is created to store the cropped images\n",
        "os.makedirs('sample', exist_ok=True)"
      ],
      "metadata": {
        "id": "s5e7M3Ukx0U4"
      },
      "execution_count": null,
      "outputs": []
    },
    {
      "cell_type": "code",
      "source": [
        "#Cropping the regions from the original image: For each region annotation,\n",
        "#the bounding box coordinates are retrieved, the corresponding region is cropped from the original image,\n",
        "#and the cropped region is saved as a separate .jpg file in the \"sample\" directory.\n",
        "\n",
        "# For each annotation in the sorted list (based on 'y' value)\n",
        "for i, annotation in enumerate(sorted(image_annotations, key=lambda x: x['shape_attributes']['y'])):\n",
        "    # Get the bounding box coordinates\n",
        "    x = int(annotation['shape_attributes']['x'])\n",
        "    y = int(annotation['shape_attributes']['y'])\n",
        "    width = int(annotation['shape_attributes']['width'])\n",
        "    height = int(annotation['shape_attributes']['height'])\n",
        "\n",
        "    # Extract the region from the original image\n",
        "    region = original_image[y:y+height, x:x+width]\n",
        "\n",
        "    # Save the cropped image\n",
        "    cv2.imwrite(f'sample/cropped_image_{i}.jpg', region)\n",
        "\n",
        "# Directory containing images\n",
        "img_dir = \"sample\"\n",
        "\n",
        "# Get all .jpg files in the directory\n",
        "imgs = [i for i in os.listdir(img_dir) if i.endswith(\".jpg\")]\n",
        "\n",
        "# Sort the images by name to ensure they're in the order you expect\n",
        "imgs = sorted(imgs)\n",
        "\n",
        "# Converting each image to PDF: Each image is converted to PDF using the img2pdf library. The resulting PDF bytes are stored in the pdf_bytes variable.\n",
        "# Convert each image to PDF\n",
        "pdf_bytes = img2pdf.convert([Image.open(os.path.join(img_dir, img)).filename for img in imgs])\n",
        "\n",
        "# Write the PDF bytes to a file\n",
        "with open(\"output.pdf\", \"wb\") as f:\n",
        "    f.write(pdf_bytes)\n",
        "\n",
        "# Download the output file\n",
        "files.download(\"output.pdf\")"
      ],
      "metadata": {
        "colab": {
          "base_uri": "https://localhost:8080/",
          "height": 17
        },
        "id": "WlpeWCEuzhwu",
        "outputId": "91b37f3b-2ce2-4381-d8c6-5c3d24569f71"
      },
      "execution_count": null,
      "outputs": [
        {
          "output_type": "display_data",
          "data": {
            "text/plain": [
              "<IPython.core.display.Javascript object>"
            ],
            "application/javascript": [
              "\n",
              "    async function download(id, filename, size) {\n",
              "      if (!google.colab.kernel.accessAllowed) {\n",
              "        return;\n",
              "      }\n",
              "      const div = document.createElement('div');\n",
              "      const label = document.createElement('label');\n",
              "      label.textContent = `Downloading \"${filename}\": `;\n",
              "      div.appendChild(label);\n",
              "      const progress = document.createElement('progress');\n",
              "      progress.max = size;\n",
              "      div.appendChild(progress);\n",
              "      document.body.appendChild(div);\n",
              "\n",
              "      const buffers = [];\n",
              "      let downloaded = 0;\n",
              "\n",
              "      const channel = await google.colab.kernel.comms.open(id);\n",
              "      // Send a message to notify the kernel that we're ready.\n",
              "      channel.send({})\n",
              "\n",
              "      for await (const message of channel.messages) {\n",
              "        // Send a message to notify the kernel that we're ready.\n",
              "        channel.send({})\n",
              "        if (message.buffers) {\n",
              "          for (const buffer of message.buffers) {\n",
              "            buffers.push(buffer);\n",
              "            downloaded += buffer.byteLength;\n",
              "            progress.value = downloaded;\n",
              "          }\n",
              "        }\n",
              "      }\n",
              "      const blob = new Blob(buffers, {type: 'application/binary'});\n",
              "      const a = document.createElement('a');\n",
              "      a.href = window.URL.createObjectURL(blob);\n",
              "      a.download = filename;\n",
              "      div.appendChild(a);\n",
              "      a.click();\n",
              "      div.remove();\n",
              "    }\n",
              "  "
            ]
          },
          "metadata": {}
        },
        {
          "output_type": "display_data",
          "data": {
            "text/plain": [
              "<IPython.core.display.Javascript object>"
            ],
            "application/javascript": [
              "download(\"download_ffb89593-a533-4dcb-8b14-574813349fd6\", \"output.pdf\", 1164530)"
            ]
          },
          "metadata": {}
        }
      ]
    },
    {
      "cell_type": "code",
      "source": [
        "!pip install requests\n",
        "!pip install ocrspace\n",
        "!pip install arabic_reshaper\n",
        "!pip install python-bidi"
      ],
      "metadata": {
        "colab": {
          "base_uri": "https://localhost:8080/"
        },
        "id": "TCAFkX-2udqx",
        "outputId": "3944d366-0bb0-4504-9103-eb6f4db49778"
      },
      "execution_count": null,
      "outputs": [
        {
          "output_type": "stream",
          "name": "stdout",
          "text": [
            "Requirement already satisfied: requests in /usr/local/lib/python3.10/dist-packages (2.31.0)\n",
            "Requirement already satisfied: charset-normalizer<4,>=2 in /usr/local/lib/python3.10/dist-packages (from requests) (3.2.0)\n",
            "Requirement already satisfied: idna<4,>=2.5 in /usr/local/lib/python3.10/dist-packages (from requests) (3.4)\n",
            "Requirement already satisfied: urllib3<3,>=1.21.1 in /usr/local/lib/python3.10/dist-packages (from requests) (2.0.4)\n",
            "Requirement already satisfied: certifi>=2017.4.17 in /usr/local/lib/python3.10/dist-packages (from requests) (2023.7.22)\n",
            "Requirement already satisfied: ocrspace in /usr/local/lib/python3.10/dist-packages (2.3.0)\n",
            "Requirement already satisfied: arabic_reshaper in /usr/local/lib/python3.10/dist-packages (3.0.0)\n",
            "Requirement already satisfied: python-bidi in /usr/local/lib/python3.10/dist-packages (0.4.2)\n",
            "Requirement already satisfied: six in /usr/local/lib/python3.10/dist-packages (from python-bidi) (1.16.0)\n"
          ]
        }
      ]
    },
    {
      "cell_type": "code",
      "source": [
        "import requests\n",
        "import json"
      ],
      "metadata": {
        "id": "J58IEbTBunDT"
      },
      "execution_count": null,
      "outputs": []
    },
    {
      "cell_type": "code",
      "source": [
        "def ocr_space_file(filename, overlay=False, isTable=False, api_key='K86160585588957', language='eng'):\n",
        "    payload = {\n",
        "        'isOverlayRequired': overlay,\n",
        "        'isTable': isTable,\n",
        "        'apikey': api_key,\n",
        "        'language': language,\n",
        "    }\n",
        "    with open(filename, 'rb') as f:\n",
        "        r = requests.post('https://api.ocr.space/parse/image',\n",
        "                          files={filename: f},\n",
        "                          data=payload,\n",
        "                          )\n",
        "    return r.content.decode()\n",
        "\n",
        "\n",
        "def ocr_space_url(url, overlay=False, isTable=False, api_key='helloworld', language='eng'):\n",
        "    payload = {\n",
        "        'url': url,\n",
        "        'isOverlayRequired': overlay,\n",
        "        'isTable': isTable,\n",
        "        'apikey': api_key,\n",
        "        'language': language,\n",
        "    }\n",
        "    r = requests.post('https://api.ocr.space/parse/image',\n",
        "                      data=payload,\n",
        "                      )\n",
        "    return r.content.decode()\n"
      ],
      "metadata": {
        "id": "ghsltYzPuozo"
      },
      "execution_count": null,
      "outputs": []
    },
    {
      "cell_type": "code",
      "source": [
        "def extract_table_info(ocr_json):\n",
        "    parsed_data = json.loads(ocr_json)\n",
        "    lines = []\n",
        "\n",
        "    if 'ParsedResults' in parsed_data:\n",
        "        for result in parsed_data['ParsedResults']:\n",
        "            if 'ParsedText' in result:\n",
        "                lines.extend(result['ParsedText'].split('\\n'))\n",
        "\n",
        "    # Now lines contain the text, line by line, which you can process further for your specific needs.\n",
        "    return lines\n",
        "\n",
        "# Example usage\n",
        "if __name__ == \"__main__\":\n",
        "    ocr_result_file = ocr_space_file(filename='output.jpg', isTable=True)\n",
        "    lines = extract_table_info(ocr_result_file)\n",
        "\n",
        "    for line in lines:\n",
        "        print(line)"
      ],
      "metadata": {
        "id": "gf5AxWZzutwU"
      },
      "execution_count": null,
      "outputs": []
    },
    {
      "cell_type": "code",
      "source": [
        "!pip install pandas openpyxl"
      ],
      "metadata": {
        "colab": {
          "base_uri": "https://localhost:8080/"
        },
        "id": "NjwO-s_ayhDw",
        "outputId": "41848078-cc24-443e-ccf3-405ae821e082"
      },
      "execution_count": null,
      "outputs": [
        {
          "output_type": "stream",
          "name": "stdout",
          "text": [
            "Requirement already satisfied: pandas in /usr/local/lib/python3.10/dist-packages (1.5.3)\n",
            "Requirement already satisfied: openpyxl in /usr/local/lib/python3.10/dist-packages (3.1.2)\n",
            "Requirement already satisfied: python-dateutil>=2.8.1 in /usr/local/lib/python3.10/dist-packages (from pandas) (2.8.2)\n",
            "Requirement already satisfied: pytz>=2020.1 in /usr/local/lib/python3.10/dist-packages (from pandas) (2023.3.post1)\n",
            "Requirement already satisfied: numpy>=1.21.0 in /usr/local/lib/python3.10/dist-packages (from pandas) (1.23.5)\n",
            "Requirement already satisfied: et-xmlfile in /usr/local/lib/python3.10/dist-packages (from openpyxl) (1.1.0)\n",
            "Requirement already satisfied: six>=1.5 in /usr/local/lib/python3.10/dist-packages (from python-dateutil>=2.8.1->pandas) (1.16.0)\n"
          ]
        }
      ]
    },
    {
      "cell_type": "code",
      "source": [
        "import pandas as pd\n",
        "\n",
        "def write_to_excel(lines, filename='output.xlsx'):\n",
        "    # Assuming each line in 'lines' is a tab-separated row\n",
        "    rows = [line.split('\\t') for line in lines]\n",
        "\n",
        "    df = pd.DataFrame(rows)\n",
        "    df.to_excel(filename, index=False, header=False)\n",
        "\n",
        "# Example usage\n",
        "if __name__ == \"__main__\":\n",
        "    ocr_result_file = ocr_space_file(filename='output.pdf', isTable=True)\n",
        "    lines = extract_table_info(ocr_result_file)\n",
        "\n",
        "    write_to_excel(lines)"
      ],
      "metadata": {
        "id": "4qhLUlErylc-"
      },
      "execution_count": null,
      "outputs": []
    },
    {
      "cell_type": "markdown",
      "source": [
        "# Conclusion"
      ],
      "metadata": {
        "id": "Q-j1A4WKh2ri"
      }
    },
    {
      "cell_type": "markdown",
      "source": [
        "Here's the proposed workflow using verbal language:\n",
        "\n",
        "*   Step 1: Image Segmentation\n",
        "\n",
        "Firstly, we need to perform image segmentation to separate the different elements in the image. Specifically, we want to distinguish between text and tables.\n",
        "For the text part, we can leverage the existing OCR (Optical Character Recognition) Workflow. This means using OCR technology to extract text from the segmented regions containing textual content.\n",
        "\n",
        "*   Step 2: Text Processing\n",
        "\n",
        "After obtaining the text using our prefered OCR, we may need to perform some manual corrections. This step involves reviewing the OCR results and making necessary adjustments to fix any inaccuracies or errors that might have occurred during the OCR process. Manual correction ensures the accuracy of the extracted text.\n",
        "\n",
        "*   Step 3: Table Processing\n",
        "\n",
        "For the table part of the image, we'll also use the OCR Workflow to extract the content. However, tables can be more complex than plain text, and OCR might not perfectly capture all the data.\n",
        "To address this, we could perform manual correction on the extracted table data. This step involves carefully reviewing the table content, cross-referencing it with the original image, and making necessary adjustments to ensure the table is accurately represented.\n",
        "\n",
        "*    Overall\n",
        "\n",
        "The end result will be a comprehensive and accurate extraction of both the text and table elements from the image. The text will be processed using the (AWS I believe) OCR Workflow with manual corrections, if needed. Similarly, the table will undergo the same process to ensure its accuracy. By following this three-step plan, we'll achieve a successful image segmentation and extraction of textual and tabular content.\n"
      ],
      "metadata": {
        "id": "0EVkHVyLh8zE"
      }
    }
  ]
}